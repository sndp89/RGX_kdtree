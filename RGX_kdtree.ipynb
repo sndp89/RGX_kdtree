{
 "cells": [
  {
   "cell_type": "code",
   "execution_count": 1,
   "metadata": {
    "collapsed": true
   },
   "outputs": [],
   "source": [
    "import numpy as np\n",
    "from scipy import spatial\n",
    "import time\n",
    "import pandas as pd\n",
    "import pickle\n",
    "import collections\n",
    "from collections import OrderedDict\n",
    "from operator import itemgetter\n",
    "from pyspark.sql.functions import udf,col,cos,sin\n",
    "from pyspark.sql.types import *\n",
    "from pyspark.sql.dataframe import *\n",
    "from pyspark.sql.types import DoubleType\n",
    "from pyspark.sql.functions import monotonically_increasing_id\n"
   ]
  },
  {
   "cell_type": "code",
   "execution_count": 2,
   "metadata": {
    "collapsed": false
   },
   "outputs": [
    {
     "data": {
      "text/plain": [
       "'1.16.2'"
      ]
     },
     "execution_count": 2,
     "metadata": {},
     "output_type": "execute_result"
    }
   ],
   "source": [
    "np.__version__"
   ]
  },
  {
   "cell_type": "code",
   "execution_count": 3,
   "metadata": {
    "collapsed": true
   },
   "outputs": [],
   "source": [
    "#spark.sparkContext.getConf().getAll()"
   ]
  },
  {
   "cell_type": "code",
   "execution_count": 4,
   "metadata": {
    "collapsed": true
   },
   "outputs": [],
   "source": [
    "#known products and their PCAs - master for nneighb search\n",
    "obj_sql = \"select * from advanlwork.rgx_knowns\" \n",
    "obj_ds = spark.sql(obj_sql)"
   ]
  },
  {
   "cell_type": "code",
   "execution_count": 5,
   "metadata": {
    "collapsed": true
   },
   "outputs": [],
   "source": [
    "#customer dimensions - looking for recommendation for these\n",
    "cust_sql = \"select account, pca_device as pca1,pca_viewing as pca2,pca_tickets as pca3,pca_truckroll as pca4,pca_spectra as pca5,pca_network as pca6,pca_costs as pca7,pca_ivr as pca8,pca_pscs as pca9,pca_consumer as pca10,pca_census as pca11,pca_email as pca12,pca_call as pca13 from jberry003.customer_pca limit 100\" \n",
    "cust_ds = spark.sql(cust_sql)"
   ]
  },
  {
   "cell_type": "code",
   "execution_count": 6,
   "metadata": {
    "collapsed": true
   },
   "outputs": [],
   "source": [
    "#product weights - decided by business\n",
    "prod_sql = \"select * from advanlwork.rgx_product\" \n",
    "prod_ds = spark.sql(prod_sql)"
   ]
  },
  {
   "cell_type": "code",
   "execution_count": 7,
   "metadata": {
    "collapsed": false
   },
   "outputs": [
    {
     "data": {
      "text/html": [
       "<div>\n",
       "<style scoped>\n",
       "    .dataframe tbody tr th:only-of-type {\n",
       "        vertical-align: middle;\n",
       "    }\n",
       "\n",
       "    .dataframe tbody tr th {\n",
       "        vertical-align: top;\n",
       "    }\n",
       "\n",
       "    .dataframe thead th {\n",
       "        text-align: right;\n",
       "    }\n",
       "</style>\n",
       "<table border=\"1\" class=\"dataframe\">\n",
       "  <thead>\n",
       "    <tr style=\"text-align: right;\">\n",
       "      <th></th>\n",
       "      <th>prod</th>\n",
       "      <th>w_stats</th>\n",
       "      <th>w_rev</th>\n",
       "      <th>w_season</th>\n",
       "    </tr>\n",
       "  </thead>\n",
       "  <tbody>\n",
       "    <tr>\n",
       "      <th>0</th>\n",
       "      <td>BOXING EVENT</td>\n",
       "      <td>1.0</td>\n",
       "      <td>135.0</td>\n",
       "      <td>[1.0, 1.0, 1.0, 1.0, 1.0, 1.0, 1.0, 1.0, 1.0, ...</td>\n",
       "    </tr>\n",
       "    <tr>\n",
       "      <th>1</th>\n",
       "      <td>PRO WRESTLING EVENT</td>\n",
       "      <td>1.0</td>\n",
       "      <td>160.0</td>\n",
       "      <td>[0.0, 0.0, 0.0, 2.4, 2.4, 0.0, 2.4, 0.0, 2.4, ...</td>\n",
       "    </tr>\n",
       "    <tr>\n",
       "      <th>2</th>\n",
       "      <td>HISTORY VAULT</td>\n",
       "      <td>1.0</td>\n",
       "      <td>5.0</td>\n",
       "      <td>[1.0, 1.0, 1.0, 1.0, 1.0, 1.0, 1.0, 1.0, 1.0, ...</td>\n",
       "    </tr>\n",
       "    <tr>\n",
       "      <th>3</th>\n",
       "      <td>GAIAM TV FIT &amp; YOGA</td>\n",
       "      <td>1.0</td>\n",
       "      <td>7.0</td>\n",
       "      <td>[1.0, 1.0, 1.0, 1.0, 1.0, 1.0, 1.0, 1.0, 1.0, ...</td>\n",
       "    </tr>\n",
       "    <tr>\n",
       "      <th>4</th>\n",
       "      <td>UP FAITH &amp; FAMILY</td>\n",
       "      <td>1.0</td>\n",
       "      <td>6.0</td>\n",
       "      <td>[1.0, 1.0, 1.0, 1.0, 1.0, 1.0, 1.0, 1.0, 1.0, ...</td>\n",
       "    </tr>\n",
       "  </tbody>\n",
       "</table>\n",
       "</div>"
      ],
      "text/plain": [
       "                  prod  w_stats  w_rev  \\\n",
       "0         BOXING EVENT      1.0  135.0   \n",
       "1  PRO WRESTLING EVENT      1.0  160.0   \n",
       "2        HISTORY VAULT      1.0    5.0   \n",
       "3  GAIAM TV FIT & YOGA      1.0    7.0   \n",
       "4    UP FAITH & FAMILY      1.0    6.0   \n",
       "\n",
       "                                            w_season  \n",
       "0  [1.0, 1.0, 1.0, 1.0, 1.0, 1.0, 1.0, 1.0, 1.0, ...  \n",
       "1  [0.0, 0.0, 0.0, 2.4, 2.4, 0.0, 2.4, 0.0, 2.4, ...  \n",
       "2  [1.0, 1.0, 1.0, 1.0, 1.0, 1.0, 1.0, 1.0, 1.0, ...  \n",
       "3  [1.0, 1.0, 1.0, 1.0, 1.0, 1.0, 1.0, 1.0, 1.0, ...  \n",
       "4  [1.0, 1.0, 1.0, 1.0, 1.0, 1.0, 1.0, 1.0, 1.0, ...  "
      ]
     },
     "execution_count": 7,
     "metadata": {},
     "output_type": "execute_result"
    }
   ],
   "source": [
    "prod_ds_pd=prod_ds.toPandas()\n",
    "prod_ds_pd.head()"
   ]
  },
  {
   "cell_type": "code",
   "execution_count": 8,
   "metadata": {
    "collapsed": false
   },
   "outputs": [
    {
     "data": {
      "text/plain": [
       "4"
      ]
     },
     "execution_count": 8,
     "metadata": {},
     "output_type": "execute_result"
    }
   ],
   "source": [
    "#index of current month\n",
    "index_curr=pd.to_datetime('today').month-1\n",
    "index_curr"
   ]
  },
  {
   "cell_type": "code",
   "execution_count": 9,
   "metadata": {
    "collapsed": false
   },
   "outputs": [
    {
     "data": {
      "text/html": [
       "<div>\n",
       "<style scoped>\n",
       "    .dataframe tbody tr th:only-of-type {\n",
       "        vertical-align: middle;\n",
       "    }\n",
       "\n",
       "    .dataframe tbody tr th {\n",
       "        vertical-align: top;\n",
       "    }\n",
       "\n",
       "    .dataframe thead th {\n",
       "        text-align: right;\n",
       "    }\n",
       "</style>\n",
       "<table border=\"1\" class=\"dataframe\">\n",
       "  <thead>\n",
       "    <tr style=\"text-align: right;\">\n",
       "      <th></th>\n",
       "      <th>prod</th>\n",
       "      <th>w_stats</th>\n",
       "      <th>w_rev</th>\n",
       "      <th>w_season1</th>\n",
       "    </tr>\n",
       "  </thead>\n",
       "  <tbody>\n",
       "    <tr>\n",
       "      <th>0</th>\n",
       "      <td>BOXING EVENT</td>\n",
       "      <td>1.0</td>\n",
       "      <td>135.0</td>\n",
       "      <td>1.0</td>\n",
       "    </tr>\n",
       "    <tr>\n",
       "      <th>1</th>\n",
       "      <td>PRO WRESTLING EVENT</td>\n",
       "      <td>1.0</td>\n",
       "      <td>160.0</td>\n",
       "      <td>2.4</td>\n",
       "    </tr>\n",
       "    <tr>\n",
       "      <th>2</th>\n",
       "      <td>HISTORY VAULT</td>\n",
       "      <td>1.0</td>\n",
       "      <td>5.0</td>\n",
       "      <td>1.0</td>\n",
       "    </tr>\n",
       "    <tr>\n",
       "      <th>3</th>\n",
       "      <td>GAIAM TV FIT &amp; YOGA</td>\n",
       "      <td>1.0</td>\n",
       "      <td>7.0</td>\n",
       "      <td>1.0</td>\n",
       "    </tr>\n",
       "    <tr>\n",
       "      <th>4</th>\n",
       "      <td>UP FAITH &amp; FAMILY</td>\n",
       "      <td>1.0</td>\n",
       "      <td>6.0</td>\n",
       "      <td>1.0</td>\n",
       "    </tr>\n",
       "  </tbody>\n",
       "</table>\n",
       "</div>"
      ],
      "text/plain": [
       "                  prod  w_stats  w_rev  w_season1\n",
       "0         BOXING EVENT      1.0  135.0        1.0\n",
       "1  PRO WRESTLING EVENT      1.0  160.0        2.4\n",
       "2        HISTORY VAULT      1.0    5.0        1.0\n",
       "3  GAIAM TV FIT & YOGA      1.0    7.0        1.0\n",
       "4    UP FAITH & FAMILY      1.0    6.0        1.0"
      ]
     },
     "execution_count": 9,
     "metadata": {},
     "output_type": "execute_result"
    }
   ],
   "source": [
    "#get seasonal weight for current month\n",
    "prod_ds_pd['w_season1']=prod_ds_pd['w_season'].apply(lambda x:x[index_curr])\n",
    "prod_ds_pd.drop(['w_season'],inplace=True,axis=1)\n",
    "prod_ds_pd.head()"
   ]
  },
  {
   "cell_type": "code",
   "execution_count": 10,
   "metadata": {
    "collapsed": true
   },
   "outputs": [],
   "source": [
    "#make min season weight as 1\n",
    "prod_ds_pd['w_season1']=prod_ds_pd['w_season1'].apply(lambda x:x if x>=1 else 1) \n",
    "\n",
    "#weight computation\n",
    "prod_ds_pd['decision_weight']=prod_ds_pd['w_stats']*prod_ds_pd['w_rev']*prod_ds_pd['w_season1'] "
   ]
  },
  {
   "cell_type": "code",
   "execution_count": 11,
   "metadata": {
    "collapsed": true
   },
   "outputs": [],
   "source": [
    "#create weighted dictionary\n",
    "weight_dict={}\n",
    "for i in range(prod_ds_pd.shape[0]):\n",
    "         weight_dict[prod_ds_pd['prod'][i]] = prod_ds_pd['decision_weight'][i]\n"
   ]
  },
  {
   "cell_type": "code",
   "execution_count": 12,
   "metadata": {
    "collapsed": false
   },
   "outputs": [
    {
     "data": {
      "text/plain": [
       "{u'ACORN SVOD': 5.0,\n",
       " u'AMC PREMIERE SVOD': 5.0,\n",
       " u'BOXING EVENT': 135.0,\n",
       " u'DISNEY FAMILY MOVIES': 5.0,\n",
       " u'DOGTV': 5.0,\n",
       " u'EROS NOW': 8.0,\n",
       " u'FX+ SVOD': 6.0,\n",
       " u'GAIA': 9.0,\n",
       " u'GAIAM TV FIT & YOGA': 7.0,\n",
       " u'HISTORY VAULT': 5.0,\n",
       " u'LIFETIME MOVIE CLUB': 4.0,\n",
       " u'MLB EXTRA INNINGS': 120.0,\n",
       " u'MLS DIRECT KICK': 5.0,\n",
       " u'NBA LEAGUE PASS': 120.0,\n",
       " u'NHL CENTER ICE': 150.0,\n",
       " u'PANTAYA SVOD': 6.0,\n",
       " u'PRO WRESTLING EVENT': 384.0,\n",
       " u'STINGRAY KARAOKE': 7.0,\n",
       " u'UP FAITH & FAMILY': 6.0,\n",
       " u'URBAN MOVIE CHANNEL SVOD': 5.0,\n",
       " u'XFI PODS': 120.0}"
      ]
     },
     "execution_count": 12,
     "metadata": {},
     "output_type": "execute_result"
    }
   ],
   "source": [
    "weight_dict"
   ]
  },
  {
   "cell_type": "code",
   "execution_count": 13,
   "metadata": {
    "collapsed": false
   },
   "outputs": [
    {
     "name": "stdout",
     "output_type": "stream",
     "text": [
      "+----------------+------------+--------------------+\n",
      "|  account_number|        prod|       customer_dims|\n",
      "+----------------+------------+--------------------+\n",
      "|8993110620320548|BOXING EVENT|[0.35335969508809...|\n",
      "|8155100350728428|BOXING EVENT|[0.22663833854761...|\n",
      "|8499051000009476|BOXING EVENT|[0.0, 0.432564544...|\n",
      "|8155200510682273|BOXING EVENT|[0.14254242837012...|\n",
      "|8155600230220983|BOXING EVENT|[0.15717488814089...|\n",
      "+----------------+------------+--------------------+\n",
      "only showing top 5 rows\n",
      "\n"
     ]
    }
   ],
   "source": [
    "obj_ds.show(5)"
   ]
  },
  {
   "cell_type": "code",
   "execution_count": 14,
   "metadata": {
    "collapsed": false
   },
   "outputs": [
    {
     "name": "stdout",
     "output_type": "stream",
     "text": [
      "+----------------+-------------------+-------------------+--------------------+----+--------------------+----+--------------------+--------------------+------------------+-------------------+-------------------+--------------------+--------------------+\n",
      "|         account|               pca1|               pca2|                pca3|pca4|                pca5|pca6|                pca7|                pca8|              pca9|              pca10|              pca11|               pca12|               pca13|\n",
      "+----------------+-------------------+-------------------+--------------------+----+--------------------+----+--------------------+--------------------+------------------+-------------------+-------------------+--------------------+--------------------+\n",
      "|8499053543493100| 0.3349447369424126|0.24640695696173107|0.002523993689563562| 0.0| 0.22205805321331099| 0.0|0.002738667288396...|0.002039927582795...|0.7392743833390959|                0.0|0.24824282911567036|0.031115239890390705| 3.46834569140206E-5|\n",
      "|8499053543370761|0.34397953706668744| 0.4905182789829952|0.001411684276694...| 0.0|  0.2273727769262979| 0.0|0.003798889595333...|0.007786241102506328|0.8722682883627426| 3.0482180000000003| 0.2924665783721021|                 0.0|2.062122671668692...|\n",
      "|8499053541869053|0.28235688123838065| 0.4232310414281198|0.001095164287109...| 0.0| 0.16961537799064363| 0.0|0.004839198231842...|0.004352283349495...|0.2778418861226311|0.21607600000000002| 0.2876956797173784|                 0.0|3.707046393678108E-5|\n",
      "|8499053543666887| 0.2977415781512104| 0.4817618773844525|3.495609547922561E-4| 0.0|  0.1744698386061177| 0.0|0.001441194876866...|2.215120948308053E-4|0.5626574143941624|                0.0| 0.2876956797173784| 0.07795737109162078|1.028869507839868...|\n",
      "|8499053541006193| 0.0616573366907084| 0.4178034405289521|0.001196027579642...| 0.0|0.042438983158553996| 0.0|0.004776905819460921|0.002264432106431189|0.7002743644438114|                0.0| 0.2555995950475287|0.006263743702857077|9.904853884440489E-5|\n",
      "+----------------+-------------------+-------------------+--------------------+----+--------------------+----+--------------------+--------------------+------------------+-------------------+-------------------+--------------------+--------------------+\n",
      "only showing top 5 rows\n",
      "\n"
     ]
    }
   ],
   "source": [
    "cust_ds.show(5)"
   ]
  },
  {
   "cell_type": "code",
   "execution_count": 15,
   "metadata": {
    "collapsed": true
   },
   "outputs": [],
   "source": [
    "obj_ds_pd=obj_ds.toPandas()"
   ]
  },
  {
   "cell_type": "code",
   "execution_count": 16,
   "metadata": {
    "collapsed": true
   },
   "outputs": [],
   "source": [
    "obj_ds_pd[['pca1','pca2','pca3','pca4','pca5','pca6','pca7','pca8','pca9','pca10','pca11','pca12','pca13']] = pd.DataFrame(obj_ds_pd.customer_dims.values.tolist(), index= obj_ds_pd.index)"
   ]
  },
  {
   "cell_type": "code",
   "execution_count": 17,
   "metadata": {
    "collapsed": true
   },
   "outputs": [],
   "source": [
    "obj_ds_pd.drop(['customer_dims'],inplace=True,axis=1)"
   ]
  },
  {
   "cell_type": "code",
   "execution_count": 18,
   "metadata": {
    "collapsed": false
   },
   "outputs": [
    {
     "data": {
      "text/html": [
       "<div>\n",
       "<style scoped>\n",
       "    .dataframe tbody tr th:only-of-type {\n",
       "        vertical-align: middle;\n",
       "    }\n",
       "\n",
       "    .dataframe tbody tr th {\n",
       "        vertical-align: top;\n",
       "    }\n",
       "\n",
       "    .dataframe thead th {\n",
       "        text-align: right;\n",
       "    }\n",
       "</style>\n",
       "<table border=\"1\" class=\"dataframe\">\n",
       "  <thead>\n",
       "    <tr style=\"text-align: right;\">\n",
       "      <th></th>\n",
       "      <th>account_number</th>\n",
       "      <th>prod</th>\n",
       "      <th>pca1</th>\n",
       "      <th>pca2</th>\n",
       "      <th>pca3</th>\n",
       "      <th>pca4</th>\n",
       "      <th>pca5</th>\n",
       "      <th>pca6</th>\n",
       "      <th>pca7</th>\n",
       "      <th>pca8</th>\n",
       "      <th>pca9</th>\n",
       "      <th>pca10</th>\n",
       "      <th>pca11</th>\n",
       "      <th>pca12</th>\n",
       "      <th>pca13</th>\n",
       "    </tr>\n",
       "  </thead>\n",
       "  <tbody>\n",
       "    <tr>\n",
       "      <th>0</th>\n",
       "      <td>8993110620320548</td>\n",
       "      <td>BOXING EVENT</td>\n",
       "      <td>0.353360</td>\n",
       "      <td>0.004388</td>\n",
       "      <td>0.006781</td>\n",
       "      <td>0.0</td>\n",
       "      <td>0.240028</td>\n",
       "      <td>0.0</td>\n",
       "      <td>0.001009</td>\n",
       "      <td>0.001230</td>\n",
       "      <td>0.638791</td>\n",
       "      <td>0.00000</td>\n",
       "      <td>0.731868</td>\n",
       "      <td>0.001205</td>\n",
       "      <td>0.000225</td>\n",
       "    </tr>\n",
       "    <tr>\n",
       "      <th>1</th>\n",
       "      <td>8155100350728428</td>\n",
       "      <td>BOXING EVENT</td>\n",
       "      <td>0.226638</td>\n",
       "      <td>0.224098</td>\n",
       "      <td>0.001349</td>\n",
       "      <td>0.0</td>\n",
       "      <td>0.159882</td>\n",
       "      <td>0.0</td>\n",
       "      <td>0.003220</td>\n",
       "      <td>0.000435</td>\n",
       "      <td>0.107812</td>\n",
       "      <td>0.00000</td>\n",
       "      <td>0.389141</td>\n",
       "      <td>0.006321</td>\n",
       "      <td>0.000111</td>\n",
       "    </tr>\n",
       "    <tr>\n",
       "      <th>2</th>\n",
       "      <td>8499051000009476</td>\n",
       "      <td>BOXING EVENT</td>\n",
       "      <td>0.000000</td>\n",
       "      <td>0.432565</td>\n",
       "      <td>0.004603</td>\n",
       "      <td>0.0</td>\n",
       "      <td>0.000000</td>\n",
       "      <td>0.0</td>\n",
       "      <td>0.003728</td>\n",
       "      <td>0.002936</td>\n",
       "      <td>0.235647</td>\n",
       "      <td>0.22016</td>\n",
       "      <td>0.304523</td>\n",
       "      <td>0.000000</td>\n",
       "      <td>0.000156</td>\n",
       "    </tr>\n",
       "    <tr>\n",
       "      <th>3</th>\n",
       "      <td>8155200510682273</td>\n",
       "      <td>BOXING EVENT</td>\n",
       "      <td>0.142542</td>\n",
       "      <td>0.216289</td>\n",
       "      <td>0.000302</td>\n",
       "      <td>0.0</td>\n",
       "      <td>0.102269</td>\n",
       "      <td>0.0</td>\n",
       "      <td>0.001537</td>\n",
       "      <td>0.000338</td>\n",
       "      <td>0.126140</td>\n",
       "      <td>0.00000</td>\n",
       "      <td>0.245020</td>\n",
       "      <td>0.014248</td>\n",
       "      <td>0.000028</td>\n",
       "    </tr>\n",
       "    <tr>\n",
       "      <th>4</th>\n",
       "      <td>8155600230220983</td>\n",
       "      <td>BOXING EVENT</td>\n",
       "      <td>0.157175</td>\n",
       "      <td>0.392259</td>\n",
       "      <td>0.000194</td>\n",
       "      <td>0.0</td>\n",
       "      <td>0.102438</td>\n",
       "      <td>0.0</td>\n",
       "      <td>0.001557</td>\n",
       "      <td>0.000000</td>\n",
       "      <td>0.564833</td>\n",
       "      <td>0.00000</td>\n",
       "      <td>0.416608</td>\n",
       "      <td>0.017176</td>\n",
       "      <td>0.000000</td>\n",
       "    </tr>\n",
       "  </tbody>\n",
       "</table>\n",
       "</div>"
      ],
      "text/plain": [
       "     account_number          prod      pca1      pca2      pca3  pca4  \\\n",
       "0  8993110620320548  BOXING EVENT  0.353360  0.004388  0.006781   0.0   \n",
       "1  8155100350728428  BOXING EVENT  0.226638  0.224098  0.001349   0.0   \n",
       "2  8499051000009476  BOXING EVENT  0.000000  0.432565  0.004603   0.0   \n",
       "3  8155200510682273  BOXING EVENT  0.142542  0.216289  0.000302   0.0   \n",
       "4  8155600230220983  BOXING EVENT  0.157175  0.392259  0.000194   0.0   \n",
       "\n",
       "       pca5  pca6      pca7      pca8      pca9    pca10     pca11     pca12  \\\n",
       "0  0.240028   0.0  0.001009  0.001230  0.638791  0.00000  0.731868  0.001205   \n",
       "1  0.159882   0.0  0.003220  0.000435  0.107812  0.00000  0.389141  0.006321   \n",
       "2  0.000000   0.0  0.003728  0.002936  0.235647  0.22016  0.304523  0.000000   \n",
       "3  0.102269   0.0  0.001537  0.000338  0.126140  0.00000  0.245020  0.014248   \n",
       "4  0.102438   0.0  0.001557  0.000000  0.564833  0.00000  0.416608  0.017176   \n",
       "\n",
       "      pca13  \n",
       "0  0.000225  \n",
       "1  0.000111  \n",
       "2  0.000156  \n",
       "3  0.000028  \n",
       "4  0.000000  "
      ]
     },
     "execution_count": 18,
     "metadata": {},
     "output_type": "execute_result"
    }
   ],
   "source": [
    "obj_ds_pd.head()"
   ]
  },
  {
   "cell_type": "code",
   "execution_count": 19,
   "metadata": {
    "collapsed": true
   },
   "outputs": [],
   "source": [
    "#dictionary for looking for products of nneighb\n",
    "d_prod_indexing = {} \n",
    "for i in range(obj_ds_pd.shape[0]):\n",
    "         d_prod_indexing[i] = obj_ds_pd['prod'][i]"
   ]
  },
  {
   "cell_type": "code",
   "execution_count": 20,
   "metadata": {
    "collapsed": false
   },
   "outputs": [
    {
     "data": {
      "text/plain": [
       "u'BOXING EVENT'"
      ]
     },
     "execution_count": 20,
     "metadata": {},
     "output_type": "execute_result"
    }
   ],
   "source": [
    "d_prod_indexing[0]"
   ]
  },
  {
   "cell_type": "code",
   "execution_count": 21,
   "metadata": {
    "collapsed": false
   },
   "outputs": [
    {
     "name": "stdout",
     "output_type": "stream",
     "text": [
      "Done! Overall Took 0.0 minutes\n"
     ]
    }
   ],
   "source": [
    "#kd-tree creation for querying\n",
    "start=time.time()\n",
    "obj=np.array(obj_ds_pd[['pca1','pca2','pca3','pca4','pca5','pca6','pca7','pca8','pca9','pca10','pca11','pca12','pca13']])\n",
    "tree = spatial.cKDTree(obj,leafsize=4)\n",
    "\n",
    "print(\"Done! Overall Took \" + str(round(((time.time())-start)/60)) + \" minutes\")"
   ]
  },
  {
   "cell_type": "code",
   "execution_count": 22,
   "metadata": {
    "collapsed": false
   },
   "outputs": [
    {
     "data": {
      "text/plain": [
       "(array([0.25167995, 0.25340626]), array([13333,  8946]))"
      ]
     },
     "execution_count": 22,
     "metadata": {},
     "output_type": "execute_result"
    }
   ],
   "source": [
    "#sample query\n",
    "random_cust=[0,0.1,0.05,0.04,0.01,0.06,0.08,0.09,0.001,0.1,0.1,0.1,0.1]\n",
    "tree.query(random_cust,2)"
   ]
  },
  {
   "cell_type": "code",
   "execution_count": 23,
   "metadata": {
    "collapsed": true
   },
   "outputs": [],
   "source": [
    "#fuction for freq weight\n",
    "def func_freq(inp):\n",
    "    d_tmp={}\n",
    "    for k,v in inp.items():\n",
    "        d_tmp[k]=v/5.0 #used 5.0 instead of 5 because Python 2.0 returns integer instead of float while dividing\n",
    "    return d_tmp\n",
    "\n",
    "#weighted results, sorting and restring to top n\n",
    "def weighted_fetch(dict1,dict2,limit):\n",
    "    d1={}\n",
    "    for k,v in dict1.items():\n",
    "        d1[k]=dict2[k]*v\n",
    "    sorted_d1 = OrderedDict(sorted(d1.items(), key = itemgetter(1), reverse = True))\n",
    "    l=[]\n",
    "    [l.extend([k]) for k,v in sorted_d1.items()]\n",
    "    l1=l[0:limit]  \n",
    "    return l1"
   ]
  },
  {
   "cell_type": "code",
   "execution_count": 24,
   "metadata": {
    "collapsed": false
   },
   "outputs": [
    {
     "name": "stdout",
     "output_type": "stream",
     "text": [
      "Done! Took 0.0 minutes\n"
     ]
    }
   ],
   "source": [
    "#all magic happens here - search nneighb, get products and their freq weights, multiple with product weight dict, get results\n",
    "start=time.time()\n",
    "kdt_b = sc.broadcast(tree)\n",
    "pcas= cust_ds.select('pca1','pca2','pca3','pca4','pca5','pca6','pca7','pca8','pca9','pca10','pca11','pca12','pca13').rdd.map(lambda l: (l[0],l[1],l[2],l[3],l[4],l[5],l[6],l[7],l[8],l[9],l[10],l[11],l[12]))\n",
    "                                                                                                                                      \n",
    "t = pcas.map(lambda x: kdt_b.value.query(x,5)[1]) #returns index of nearest neighbour\n",
    "t1=t.map(lambda x:[d_prod_indexing[i] for i in x.tolist()]) #map index to corresponding product\n",
    "t2=t1.map(lambda x:(collections.Counter(x))) #frequency of products\n",
    "t3=t2.map(lambda x:func_freq(x)) # freq pct\n",
    "t4=t2.map(lambda x:weighted_fetch(x,weight_dict,2)) #return top2 based on weights - freq weight*product weights\n",
    "\n",
    "print(\"Done! Took \" + str(round(((time.time())-start)/60)) + \" minutes\")"
   ]
  },
  {
   "cell_type": "code",
   "execution_count": 25,
   "metadata": {
    "collapsed": false
   },
   "outputs": [
    {
     "data": {
      "text/plain": [
       "[{u'AMC PREMIERE SVOD': 0.2,\n",
       "  u'BOXING EVENT': 0.2,\n",
       "  u'NHL CENTER ICE': 0.2,\n",
       "  u'STINGRAY KARAOKE': 0.2,\n",
       "  u'XFI PODS': 0.2},\n",
       " {u'FX+ SVOD': 0.2,\n",
       "  u'GAIA': 0.2,\n",
       "  u'PRO WRESTLING EVENT': 0.2,\n",
       "  u'STINGRAY KARAOKE': 0.2,\n",
       "  u'URBAN MOVIE CHANNEL SVOD': 0.2},\n",
       " {u'EROS NOW': 0.4, u'GAIA': 0.2, u'NBA LEAGUE PASS': 0.4},\n",
       " {u'GAIA': 0.2,\n",
       "  u'MLS DIRECT KICK': 0.2,\n",
       "  u'STINGRAY KARAOKE': 0.2,\n",
       "  u'URBAN MOVIE CHANNEL SVOD': 0.2,\n",
       "  u'XFI PODS': 0.2},\n",
       " {u'ACORN SVOD': 0.2,\n",
       "  u'EROS NOW': 0.2,\n",
       "  u'MLS DIRECT KICK': 0.2,\n",
       "  u'XFI PODS': 0.4}]"
      ]
     },
     "execution_count": 25,
     "metadata": {},
     "output_type": "execute_result"
    }
   ],
   "source": [
    "t3.take(5)"
   ]
  },
  {
   "cell_type": "code",
   "execution_count": 26,
   "metadata": {
    "collapsed": false
   },
   "outputs": [
    {
     "data": {
      "text/plain": [
       "[[u'URBAN MOVIE CHANNEL SVOD', u'EROS NOW'],\n",
       " [u'PRO WRESTLING EVENT', u'BOXING EVENT'],\n",
       " [u'NBA LEAGUE PASS', u'GAIAM TV FIT & YOGA'],\n",
       " [u'NHL CENTER ICE', u'AMC PREMIERE SVOD'],\n",
       " [u'EROS NOW', u'GAIAM TV FIT & YOGA']]"
      ]
     },
     "execution_count": 26,
     "metadata": {},
     "output_type": "execute_result"
    }
   ],
   "source": [
    "t4.take(5)"
   ]
  },
  {
   "cell_type": "code",
   "execution_count": 27,
   "metadata": {
    "collapsed": false
   },
   "outputs": [],
   "source": [
    "df_recomend=t4.zipWithIndex().toDF()"
   ]
  },
  {
   "cell_type": "code",
   "execution_count": 28,
   "metadata": {
    "collapsed": false
   },
   "outputs": [
    {
     "name": "stdout",
     "output_type": "stream",
     "text": [
      "+----------------------------------------+---+\n",
      "|_1                                      |_2 |\n",
      "+----------------------------------------+---+\n",
      "|[PRO WRESTLING EVENT, MLB EXTRA INNINGS]|0  |\n",
      "|[LIFETIME MOVIE CLUB, EROS NOW]         |1  |\n",
      "|[BOXING EVENT, PANTAYA SVOD]            |2  |\n",
      "|[GAIA, STINGRAY KARAOKE]                |3  |\n",
      "|[URBAN MOVIE CHANNEL SVOD, PANTAYA SVOD]|4  |\n",
      "+----------------------------------------+---+\n",
      "only showing top 5 rows\n",
      "\n"
     ]
    }
   ],
   "source": [
    "df_recomend.show(5,False)"
   ]
  },
  {
   "cell_type": "code",
   "execution_count": 29,
   "metadata": {
    "collapsed": true
   },
   "outputs": [],
   "source": [
    "df_tmp = cust_ds.select(\"account\").rdd.zipWithIndex().toDF()\n",
    "df_tmp = df_tmp.select(col(\"_1\").alias('acct'),col(\"_2\"))"
   ]
  },
  {
   "cell_type": "code",
   "execution_count": 30,
   "metadata": {
    "collapsed": false
   },
   "outputs": [
    {
     "name": "stdout",
     "output_type": "stream",
     "text": [
      "+------------------+---+\n",
      "|              acct| _2|\n",
      "+------------------+---+\n",
      "|[8529113120187980]|  0|\n",
      "|[8529113050437579]|  1|\n",
      "|[8529113070045386]|  2|\n",
      "|[8529113070141847]|  3|\n",
      "+------------------+---+\n",
      "only showing top 4 rows\n",
      "\n"
     ]
    }
   ],
   "source": [
    "df_tmp.show(4)"
   ]
  },
  {
   "cell_type": "code",
   "execution_count": 31,
   "metadata": {
    "collapsed": true
   },
   "outputs": [],
   "source": [
    "df_final = df_tmp.join(df_recomend, \"_2\", \"inner\").drop(df_recomend._2)\n",
    "df_final=df_final.withColumn(\"account\", df_final.acct.account).drop(df_final.acct)\n",
    "df_final =df_final.drop(df_final._2).select(col(\"account\"),col(\"_1\").alias(\"Top5_NNeb\"))\n"
   ]
  },
  {
   "cell_type": "code",
   "execution_count": 32,
   "metadata": {
    "collapsed": false
   },
   "outputs": [
    {
     "name": "stdout",
     "output_type": "stream",
     "text": [
      "root\n",
      " |-- account: string (nullable = true)\n",
      " |-- Top5_NNeb: array (nullable = true)\n",
      " |    |-- element: string (containsNull = true)\n",
      "\n"
     ]
    }
   ],
   "source": [
    "df_final.printSchema()"
   ]
  },
  {
   "cell_type": "code",
   "execution_count": 33,
   "metadata": {
    "collapsed": false
   },
   "outputs": [
    {
     "name": "stdout",
     "output_type": "stream",
     "text": [
      "+----------------+--------------------------------------+\n",
      "|account         |Top5_NNeb                             |\n",
      "+----------------+--------------------------------------+\n",
      "|8529112680028964|[HISTORY VAULT, AMC PREMIERE SVOD]    |\n",
      "|8529112661968238|[GAIA, GAIAM TV FIT & YOGA]           |\n",
      "|8772105760360186|[XFI PODS, EROS NOW]                  |\n",
      "|8529112660684356|[PRO WRESTLING EVENT, NBA LEAGUE PASS]|\n",
      "|8772106810342257|[BOXING EVENT, UP FAITH & FAMILY]     |\n",
      "|8529113120187980|[BOXING EVENT, STINGRAY KARAOKE]      |\n",
      "|8529112660812379|[PRO WRESTLING EVENT, GAIA]           |\n",
      "|8529113120203464|[NBA LEAGUE PASS, EROS NOW]           |\n",
      "|8772105950322533|[NHL CENTER ICE, NBA LEAGUE PASS]     |\n",
      "|8529112770053237|[PRO WRESTLING EVENT, EROS NOW]       |\n",
      "+----------------+--------------------------------------+\n",
      "only showing top 10 rows\n",
      "\n"
     ]
    }
   ],
   "source": [
    "df_final.show(10,False)"
   ]
  },
  {
   "cell_type": "code",
   "execution_count": 34,
   "metadata": {
    "collapsed": false
   },
   "outputs": [
    {
     "data": {
      "text/plain": [
       "100"
      ]
     },
     "execution_count": 34,
     "metadata": {},
     "output_type": "execute_result"
    }
   ],
   "source": [
    "df_final.count()"
   ]
  },
  {
   "cell_type": "code",
   "execution_count": 35,
   "metadata": {
    "collapsed": false
   },
   "outputs": [
    {
     "name": "stdout",
     "output_type": "stream",
     "text": [
      "Done! Took 0.0 minutes\n"
     ]
    }
   ],
   "source": [
    "start=time.time()\n",
    "df_final.write.mode(\"overwrite\").saveAsTable(\"sbalas203.recommend_top5\")\n",
    "print(\"Done! Took \" + str(round(((time.time())-start)/60)) + \" minutes\")"
   ]
  },
  {
   "cell_type": "code",
   "execution_count": null,
   "metadata": {
    "collapsed": true
   },
   "outputs": [],
   "source": []
  }
 ],
 "metadata": {
  "kernelspec": {
   "display_name": "Python 2",
   "language": "python",
   "name": "python2"
  },
  "language_info": {
   "codemirror_mode": {
    "name": "ipython",
    "version": 2
   },
   "file_extension": ".py",
   "mimetype": "text/x-python",
   "name": "python",
   "nbconvert_exporter": "python",
   "pygments_lexer": "ipython2",
   "version": "2.7.13"
  }
 },
 "nbformat": 4,
 "nbformat_minor": 2
}
