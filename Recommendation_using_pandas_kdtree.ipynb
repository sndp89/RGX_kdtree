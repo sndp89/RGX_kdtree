{
 "cells": [
  {
   "cell_type": "code",
   "execution_count": 1,
   "metadata": {
    "collapsed": true
   },
   "outputs": [],
   "source": [
    "import numpy as np\n",
    "from scipy import spatial\n",
    "import time\n",
    "import pandas as pd\n",
    "import pickle\n",
    "import collections\n",
    "from collections import OrderedDict\n",
    "from operator import itemgetter\n",
    "from pyspark.sql.functions import udf,col,cos,sin\n",
    "from pyspark.sql.types import *\n",
    "from pyspark.sql.dataframe import *\n",
    "from pyspark.sql.types import DoubleType\n",
    "from pyspark.sql.functions import monotonically_increasing_id\n"
   ]
  },
  {
   "cell_type": "code",
   "execution_count": 2,
   "metadata": {
    "collapsed": false
   },
   "outputs": [
    {
     "data": {
      "text/plain": [
       "'1.16.2'"
      ]
     },
     "execution_count": 2,
     "metadata": {},
     "output_type": "execute_result"
    }
   ],
   "source": [
    "np.__version__"
   ]
  },
  {
   "cell_type": "code",
   "execution_count": 3,
   "metadata": {
    "collapsed": true
   },
   "outputs": [],
   "source": [
    "#provide needed inputs\n",
    "cust_account_num=8773100280335924"
   ]
  },
  {
   "cell_type": "code",
   "execution_count": 4,
   "metadata": {
    "collapsed": true
   },
   "outputs": [],
   "source": [
    "#known products and their PCAs - master for nneighb search\n",
    "obj_sql = \"select * from advanlwork.rgx_knowns\" \n",
    "obj_ds = spark.sql(obj_sql)"
   ]
  },
  {
   "cell_type": "code",
   "execution_count": 5,
   "metadata": {
    "collapsed": true
   },
   "outputs": [],
   "source": [
    "#customer dimensions - looking for recommendation for these\n",
    "cust_sql = str('select pca_device as pca1,pca_viewing as pca2,pca_tickets as pca3,pca_truckroll as pca4,pca_spectra as pca5,pca_network as pca6,pca_costs as pca7,pca_ivr as pca8,pca_pscs as pca9,pca_consumer as pca10,pca_census as pca11,pca_email as pca12,pca_call as pca13 from jberry003.customer_pca where account=')+str(cust_account_num) \n",
    "cust_ds = spark.sql(cust_sql)"
   ]
  },
  {
   "cell_type": "code",
   "execution_count": 6,
   "metadata": {
    "collapsed": true
   },
   "outputs": [],
   "source": [
    "cust_ds_pd=cust_ds.toPandas()"
   ]
  },
  {
   "cell_type": "code",
   "execution_count": 7,
   "metadata": {
    "collapsed": true
   },
   "outputs": [],
   "source": [
    "#product weights - decided by business\n",
    "prod_sql = \"select * from advanlwork.rgx_product\" \n",
    "prod_ds = spark.sql(prod_sql)"
   ]
  },
  {
   "cell_type": "code",
   "execution_count": 8,
   "metadata": {
    "collapsed": false
   },
   "outputs": [
    {
     "data": {
      "text/html": [
       "<div>\n",
       "<style scoped>\n",
       "    .dataframe tbody tr th:only-of-type {\n",
       "        vertical-align: middle;\n",
       "    }\n",
       "\n",
       "    .dataframe tbody tr th {\n",
       "        vertical-align: top;\n",
       "    }\n",
       "\n",
       "    .dataframe thead th {\n",
       "        text-align: right;\n",
       "    }\n",
       "</style>\n",
       "<table border=\"1\" class=\"dataframe\">\n",
       "  <thead>\n",
       "    <tr style=\"text-align: right;\">\n",
       "      <th></th>\n",
       "      <th>prod</th>\n",
       "      <th>w_stats</th>\n",
       "      <th>w_rev</th>\n",
       "      <th>w_season</th>\n",
       "    </tr>\n",
       "  </thead>\n",
       "  <tbody>\n",
       "    <tr>\n",
       "      <th>0</th>\n",
       "      <td>BOXING EVENT</td>\n",
       "      <td>1.0</td>\n",
       "      <td>135.0</td>\n",
       "      <td>[1.0, 1.0, 1.0, 1.0, 1.0, 1.0, 1.0, 1.0, 1.0, ...</td>\n",
       "    </tr>\n",
       "    <tr>\n",
       "      <th>1</th>\n",
       "      <td>PRO WRESTLING EVENT</td>\n",
       "      <td>1.0</td>\n",
       "      <td>160.0</td>\n",
       "      <td>[0.0, 0.0, 0.0, 2.4, 2.4, 0.0, 2.4, 0.0, 2.4, ...</td>\n",
       "    </tr>\n",
       "    <tr>\n",
       "      <th>2</th>\n",
       "      <td>HISTORY VAULT</td>\n",
       "      <td>1.0</td>\n",
       "      <td>5.0</td>\n",
       "      <td>[1.0, 1.0, 1.0, 1.0, 1.0, 1.0, 1.0, 1.0, 1.0, ...</td>\n",
       "    </tr>\n",
       "    <tr>\n",
       "      <th>3</th>\n",
       "      <td>GAIAM TV FIT &amp; YOGA</td>\n",
       "      <td>1.0</td>\n",
       "      <td>7.0</td>\n",
       "      <td>[1.0, 1.0, 1.0, 1.0, 1.0, 1.0, 1.0, 1.0, 1.0, ...</td>\n",
       "    </tr>\n",
       "    <tr>\n",
       "      <th>4</th>\n",
       "      <td>UP FAITH &amp; FAMILY</td>\n",
       "      <td>1.0</td>\n",
       "      <td>6.0</td>\n",
       "      <td>[1.0, 1.0, 1.0, 1.0, 1.0, 1.0, 1.0, 1.0, 1.0, ...</td>\n",
       "    </tr>\n",
       "  </tbody>\n",
       "</table>\n",
       "</div>"
      ],
      "text/plain": [
       "                  prod  w_stats  w_rev  \\\n",
       "0         BOXING EVENT      1.0  135.0   \n",
       "1  PRO WRESTLING EVENT      1.0  160.0   \n",
       "2        HISTORY VAULT      1.0    5.0   \n",
       "3  GAIAM TV FIT & YOGA      1.0    7.0   \n",
       "4    UP FAITH & FAMILY      1.0    6.0   \n",
       "\n",
       "                                            w_season  \n",
       "0  [1.0, 1.0, 1.0, 1.0, 1.0, 1.0, 1.0, 1.0, 1.0, ...  \n",
       "1  [0.0, 0.0, 0.0, 2.4, 2.4, 0.0, 2.4, 0.0, 2.4, ...  \n",
       "2  [1.0, 1.0, 1.0, 1.0, 1.0, 1.0, 1.0, 1.0, 1.0, ...  \n",
       "3  [1.0, 1.0, 1.0, 1.0, 1.0, 1.0, 1.0, 1.0, 1.0, ...  \n",
       "4  [1.0, 1.0, 1.0, 1.0, 1.0, 1.0, 1.0, 1.0, 1.0, ...  "
      ]
     },
     "execution_count": 8,
     "metadata": {},
     "output_type": "execute_result"
    }
   ],
   "source": [
    "prod_ds_pd=prod_ds.toPandas()\n",
    "prod_ds_pd.head()"
   ]
  },
  {
   "cell_type": "code",
   "execution_count": 9,
   "metadata": {
    "collapsed": false
   },
   "outputs": [
    {
     "data": {
      "text/plain": [
       "4"
      ]
     },
     "execution_count": 9,
     "metadata": {},
     "output_type": "execute_result"
    }
   ],
   "source": [
    "#index of current month\n",
    "index_curr=pd.to_datetime('today').month-1\n",
    "index_curr"
   ]
  },
  {
   "cell_type": "code",
   "execution_count": 10,
   "metadata": {
    "collapsed": false
   },
   "outputs": [
    {
     "data": {
      "text/html": [
       "<div>\n",
       "<style scoped>\n",
       "    .dataframe tbody tr th:only-of-type {\n",
       "        vertical-align: middle;\n",
       "    }\n",
       "\n",
       "    .dataframe tbody tr th {\n",
       "        vertical-align: top;\n",
       "    }\n",
       "\n",
       "    .dataframe thead th {\n",
       "        text-align: right;\n",
       "    }\n",
       "</style>\n",
       "<table border=\"1\" class=\"dataframe\">\n",
       "  <thead>\n",
       "    <tr style=\"text-align: right;\">\n",
       "      <th></th>\n",
       "      <th>prod</th>\n",
       "      <th>w_stats</th>\n",
       "      <th>w_rev</th>\n",
       "      <th>w_season1</th>\n",
       "    </tr>\n",
       "  </thead>\n",
       "  <tbody>\n",
       "    <tr>\n",
       "      <th>0</th>\n",
       "      <td>BOXING EVENT</td>\n",
       "      <td>1.0</td>\n",
       "      <td>135.0</td>\n",
       "      <td>1.0</td>\n",
       "    </tr>\n",
       "    <tr>\n",
       "      <th>1</th>\n",
       "      <td>PRO WRESTLING EVENT</td>\n",
       "      <td>1.0</td>\n",
       "      <td>160.0</td>\n",
       "      <td>2.4</td>\n",
       "    </tr>\n",
       "    <tr>\n",
       "      <th>2</th>\n",
       "      <td>HISTORY VAULT</td>\n",
       "      <td>1.0</td>\n",
       "      <td>5.0</td>\n",
       "      <td>1.0</td>\n",
       "    </tr>\n",
       "    <tr>\n",
       "      <th>3</th>\n",
       "      <td>GAIAM TV FIT &amp; YOGA</td>\n",
       "      <td>1.0</td>\n",
       "      <td>7.0</td>\n",
       "      <td>1.0</td>\n",
       "    </tr>\n",
       "    <tr>\n",
       "      <th>4</th>\n",
       "      <td>UP FAITH &amp; FAMILY</td>\n",
       "      <td>1.0</td>\n",
       "      <td>6.0</td>\n",
       "      <td>1.0</td>\n",
       "    </tr>\n",
       "  </tbody>\n",
       "</table>\n",
       "</div>"
      ],
      "text/plain": [
       "                  prod  w_stats  w_rev  w_season1\n",
       "0         BOXING EVENT      1.0  135.0        1.0\n",
       "1  PRO WRESTLING EVENT      1.0  160.0        2.4\n",
       "2        HISTORY VAULT      1.0    5.0        1.0\n",
       "3  GAIAM TV FIT & YOGA      1.0    7.0        1.0\n",
       "4    UP FAITH & FAMILY      1.0    6.0        1.0"
      ]
     },
     "execution_count": 10,
     "metadata": {},
     "output_type": "execute_result"
    }
   ],
   "source": [
    "#get seasonal weight for current month\n",
    "prod_ds_pd['w_season1']=prod_ds_pd['w_season'].apply(lambda x:x[index_curr])\n",
    "prod_ds_pd.drop(['w_season'],inplace=True,axis=1)\n",
    "prod_ds_pd.head()"
   ]
  },
  {
   "cell_type": "code",
   "execution_count": 11,
   "metadata": {
    "collapsed": true
   },
   "outputs": [],
   "source": [
    "#make min season weight as 1\n",
    "prod_ds_pd['w_season1']=prod_ds_pd['w_season1'].apply(lambda x:x if x>=1 else 1) \n",
    "\n",
    "#weight computation\n",
    "prod_ds_pd['decision_weight']=prod_ds_pd['w_stats']*prod_ds_pd['w_rev']*prod_ds_pd['w_season1'] "
   ]
  },
  {
   "cell_type": "code",
   "execution_count": 12,
   "metadata": {
    "collapsed": true
   },
   "outputs": [],
   "source": [
    "#create weighted dictionary\n",
    "weight_dict={}\n",
    "for i in range(prod_ds_pd.shape[0]):\n",
    "         weight_dict[prod_ds_pd['prod'][i]] = prod_ds_pd['decision_weight'][i]\n"
   ]
  },
  {
   "cell_type": "code",
   "execution_count": 13,
   "metadata": {
    "collapsed": true
   },
   "outputs": [],
   "source": [
    "obj_ds_pd=obj_ds.toPandas()"
   ]
  },
  {
   "cell_type": "code",
   "execution_count": 14,
   "metadata": {
    "collapsed": true
   },
   "outputs": [],
   "source": [
    "obj_ds_pd[['pca1','pca2','pca3','pca4','pca5','pca6','pca7','pca8','pca9','pca10','pca11','pca12','pca13']] = pd.DataFrame(obj_ds_pd.customer_dims.values.tolist(), index= obj_ds_pd.index)"
   ]
  },
  {
   "cell_type": "code",
   "execution_count": 15,
   "metadata": {
    "collapsed": true
   },
   "outputs": [],
   "source": [
    "obj_ds_pd.drop(['customer_dims'],inplace=True,axis=1)"
   ]
  },
  {
   "cell_type": "code",
   "execution_count": 16,
   "metadata": {
    "collapsed": false
   },
   "outputs": [
    {
     "data": {
      "text/html": [
       "<div>\n",
       "<style scoped>\n",
       "    .dataframe tbody tr th:only-of-type {\n",
       "        vertical-align: middle;\n",
       "    }\n",
       "\n",
       "    .dataframe tbody tr th {\n",
       "        vertical-align: top;\n",
       "    }\n",
       "\n",
       "    .dataframe thead th {\n",
       "        text-align: right;\n",
       "    }\n",
       "</style>\n",
       "<table border=\"1\" class=\"dataframe\">\n",
       "  <thead>\n",
       "    <tr style=\"text-align: right;\">\n",
       "      <th></th>\n",
       "      <th>account_number</th>\n",
       "      <th>prod</th>\n",
       "      <th>pca1</th>\n",
       "      <th>pca2</th>\n",
       "      <th>pca3</th>\n",
       "      <th>pca4</th>\n",
       "      <th>pca5</th>\n",
       "      <th>pca6</th>\n",
       "      <th>pca7</th>\n",
       "      <th>pca8</th>\n",
       "      <th>pca9</th>\n",
       "      <th>pca10</th>\n",
       "      <th>pca11</th>\n",
       "      <th>pca12</th>\n",
       "      <th>pca13</th>\n",
       "    </tr>\n",
       "  </thead>\n",
       "  <tbody>\n",
       "    <tr>\n",
       "      <th>0</th>\n",
       "      <td>8993110620320548</td>\n",
       "      <td>BOXING EVENT</td>\n",
       "      <td>0.353360</td>\n",
       "      <td>0.004388</td>\n",
       "      <td>0.006781</td>\n",
       "      <td>0.0</td>\n",
       "      <td>0.240028</td>\n",
       "      <td>0.0</td>\n",
       "      <td>0.001009</td>\n",
       "      <td>0.001230</td>\n",
       "      <td>0.638791</td>\n",
       "      <td>0.00000</td>\n",
       "      <td>0.731868</td>\n",
       "      <td>0.001205</td>\n",
       "      <td>0.000225</td>\n",
       "    </tr>\n",
       "    <tr>\n",
       "      <th>1</th>\n",
       "      <td>8155100350728428</td>\n",
       "      <td>BOXING EVENT</td>\n",
       "      <td>0.226638</td>\n",
       "      <td>0.224098</td>\n",
       "      <td>0.001349</td>\n",
       "      <td>0.0</td>\n",
       "      <td>0.159882</td>\n",
       "      <td>0.0</td>\n",
       "      <td>0.003220</td>\n",
       "      <td>0.000435</td>\n",
       "      <td>0.107812</td>\n",
       "      <td>0.00000</td>\n",
       "      <td>0.389141</td>\n",
       "      <td>0.006321</td>\n",
       "      <td>0.000111</td>\n",
       "    </tr>\n",
       "    <tr>\n",
       "      <th>2</th>\n",
       "      <td>8499051000009476</td>\n",
       "      <td>BOXING EVENT</td>\n",
       "      <td>0.000000</td>\n",
       "      <td>0.432565</td>\n",
       "      <td>0.004603</td>\n",
       "      <td>0.0</td>\n",
       "      <td>0.000000</td>\n",
       "      <td>0.0</td>\n",
       "      <td>0.003728</td>\n",
       "      <td>0.002936</td>\n",
       "      <td>0.235647</td>\n",
       "      <td>0.22016</td>\n",
       "      <td>0.304523</td>\n",
       "      <td>0.000000</td>\n",
       "      <td>0.000156</td>\n",
       "    </tr>\n",
       "    <tr>\n",
       "      <th>3</th>\n",
       "      <td>8155200510682273</td>\n",
       "      <td>BOXING EVENT</td>\n",
       "      <td>0.142542</td>\n",
       "      <td>0.216289</td>\n",
       "      <td>0.000302</td>\n",
       "      <td>0.0</td>\n",
       "      <td>0.102269</td>\n",
       "      <td>0.0</td>\n",
       "      <td>0.001537</td>\n",
       "      <td>0.000338</td>\n",
       "      <td>0.126140</td>\n",
       "      <td>0.00000</td>\n",
       "      <td>0.245020</td>\n",
       "      <td>0.014248</td>\n",
       "      <td>0.000028</td>\n",
       "    </tr>\n",
       "    <tr>\n",
       "      <th>4</th>\n",
       "      <td>8155600230220983</td>\n",
       "      <td>BOXING EVENT</td>\n",
       "      <td>0.157175</td>\n",
       "      <td>0.392259</td>\n",
       "      <td>0.000194</td>\n",
       "      <td>0.0</td>\n",
       "      <td>0.102438</td>\n",
       "      <td>0.0</td>\n",
       "      <td>0.001557</td>\n",
       "      <td>0.000000</td>\n",
       "      <td>0.564833</td>\n",
       "      <td>0.00000</td>\n",
       "      <td>0.416608</td>\n",
       "      <td>0.017176</td>\n",
       "      <td>0.000000</td>\n",
       "    </tr>\n",
       "  </tbody>\n",
       "</table>\n",
       "</div>"
      ],
      "text/plain": [
       "     account_number          prod      pca1      pca2      pca3  pca4  \\\n",
       "0  8993110620320548  BOXING EVENT  0.353360  0.004388  0.006781   0.0   \n",
       "1  8155100350728428  BOXING EVENT  0.226638  0.224098  0.001349   0.0   \n",
       "2  8499051000009476  BOXING EVENT  0.000000  0.432565  0.004603   0.0   \n",
       "3  8155200510682273  BOXING EVENT  0.142542  0.216289  0.000302   0.0   \n",
       "4  8155600230220983  BOXING EVENT  0.157175  0.392259  0.000194   0.0   \n",
       "\n",
       "       pca5  pca6      pca7      pca8      pca9    pca10     pca11     pca12  \\\n",
       "0  0.240028   0.0  0.001009  0.001230  0.638791  0.00000  0.731868  0.001205   \n",
       "1  0.159882   0.0  0.003220  0.000435  0.107812  0.00000  0.389141  0.006321   \n",
       "2  0.000000   0.0  0.003728  0.002936  0.235647  0.22016  0.304523  0.000000   \n",
       "3  0.102269   0.0  0.001537  0.000338  0.126140  0.00000  0.245020  0.014248   \n",
       "4  0.102438   0.0  0.001557  0.000000  0.564833  0.00000  0.416608  0.017176   \n",
       "\n",
       "      pca13  \n",
       "0  0.000225  \n",
       "1  0.000111  \n",
       "2  0.000156  \n",
       "3  0.000028  \n",
       "4  0.000000  "
      ]
     },
     "execution_count": 16,
     "metadata": {},
     "output_type": "execute_result"
    }
   ],
   "source": [
    "obj_ds_pd.head()"
   ]
  },
  {
   "cell_type": "code",
   "execution_count": 17,
   "metadata": {
    "collapsed": true
   },
   "outputs": [],
   "source": [
    "#dictionary for looking for products of nneighb\n",
    "d_prod_indexing = {} \n",
    "for i in range(obj_ds_pd.shape[0]):\n",
    "         d_prod_indexing[i] = obj_ds_pd['prod'][i]"
   ]
  },
  {
   "cell_type": "code",
   "execution_count": 18,
   "metadata": {
    "collapsed": false
   },
   "outputs": [
    {
     "data": {
      "text/plain": [
       "u'BOXING EVENT'"
      ]
     },
     "execution_count": 18,
     "metadata": {},
     "output_type": "execute_result"
    }
   ],
   "source": [
    "d_prod_indexing[0]"
   ]
  },
  {
   "cell_type": "code",
   "execution_count": 19,
   "metadata": {
    "collapsed": true
   },
   "outputs": [],
   "source": [
    "#fuction for freq weight\n",
    "def func_freq(inp):\n",
    "    d_tmp={}\n",
    "    for k,v in inp.items():\n",
    "        d_tmp[k]=v/5.0 #used 5.0 instead of 5 because Python 2.0 returns integer instead of float while dividing\n",
    "    return d_tmp\n",
    "\n",
    "#weighted results, sorting and restring to top n\n",
    "def weighted_fetch(dict1,dict2,limit):\n",
    "    d1={}\n",
    "    for k,v in dict1.items():\n",
    "        d1[k]=dict2[k]*v\n",
    "    sorted_d1 = OrderedDict(sorted(d1.items(), key = itemgetter(1), reverse = True))\n",
    "    l=[]\n",
    "    [l.extend([k]) for k,v in sorted_d1.items()]\n",
    "    l1=l[0:limit]  \n",
    "    return l1"
   ]
  },
  {
   "cell_type": "code",
   "execution_count": 20,
   "metadata": {
    "collapsed": false
   },
   "outputs": [
    {
     "name": "stdout",
     "output_type": "stream",
     "text": [
      "Done! Overall Took 0.0 minutes\n"
     ]
    }
   ],
   "source": [
    "#kd-tree creation for querying\n",
    "start=time.time()\n",
    "obj=np.array(obj_ds_pd[['pca1','pca2','pca3','pca4','pca5','pca6','pca7','pca8','pca9','pca10','pca11','pca12','pca13']])\n",
    "tree = spatial.cKDTree(obj,leafsize=4)\n",
    "print(\"Done! Overall Took \" + str(round(((time.time())-start)/60)) + \" minutes\")"
   ]
  },
  {
   "cell_type": "code",
   "execution_count": 21,
   "metadata": {
    "collapsed": true
   },
   "outputs": [],
   "source": [
    "nneib=tree.query(cust_ds_pd,100)"
   ]
  },
  {
   "cell_type": "code",
   "execution_count": 22,
   "metadata": {
    "collapsed": false
   },
   "outputs": [
    {
     "data": {
      "text/plain": [
       "12706"
      ]
     },
     "execution_count": 22,
     "metadata": {},
     "output_type": "execute_result"
    }
   ],
   "source": [
    "nneib[1][0][0]"
   ]
  },
  {
   "cell_type": "code",
   "execution_count": 23,
   "metadata": {
    "collapsed": false
   },
   "outputs": [
    {
     "data": {
      "text/plain": [
       "[u'NHL CENTER ICE',\n",
       " u'MLB EXTRA INNINGS',\n",
       " u'PRO WRESTLING EVENT',\n",
       " u'BOXING EVENT',\n",
       " u'XFI PODS',\n",
       " u'NBA LEAGUE PASS',\n",
       " u'STINGRAY KARAOKE',\n",
       " u'HISTORY VAULT',\n",
       " u'GAIAM TV FIT & YOGA',\n",
       " u'GAIA',\n",
       " u'ACORN SVOD',\n",
       " u'DOGTV',\n",
       " u'UP FAITH & FAMILY',\n",
       " u'LIFETIME MOVIE CLUB',\n",
       " u'AMC PREMIERE SVOD',\n",
       " u'MLS DIRECT KICK',\n",
       " u'FX+ SVOD',\n",
       " u'DISNEY FAMILY MOVIES',\n",
       " u'PANTAYA SVOD',\n",
       " u'EROS NOW',\n",
       " u'URBAN MOVIE CHANNEL SVOD']"
      ]
     },
     "execution_count": 23,
     "metadata": {},
     "output_type": "execute_result"
    }
   ],
   "source": [
    "recommended_prods=weighted_fetch(func_freq(collections.Counter([d_prod_indexing[i] for i in nneib[1][0]])),weight_dict,100)\n",
    "recommended_prods"
   ]
  },
  {
   "cell_type": "code",
   "execution_count": null,
   "metadata": {
    "collapsed": true
   },
   "outputs": [],
   "source": []
  }
 ],
 "metadata": {
  "kernelspec": {
   "display_name": "Python 2",
   "language": "python",
   "name": "python2"
  },
  "language_info": {
   "codemirror_mode": {
    "name": "ipython",
    "version": 2
   },
   "file_extension": ".py",
   "mimetype": "text/x-python",
   "name": "python",
   "nbconvert_exporter": "python",
   "pygments_lexer": "ipython2",
   "version": "2.7.13"
  }
 },
 "nbformat": 4,
 "nbformat_minor": 2
}
